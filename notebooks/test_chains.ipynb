{
 "cells": [
  {
   "cell_type": "code",
   "execution_count": 1,
   "metadata": {},
   "outputs": [],
   "source": [
    "import sys\n",
    "import os\n",
    "sys.path.append('C:\\\\Users\\\\verma\\\\Downloads\\\\app')\n",
    "os.chdir('C:\\\\Users\\\\verma\\\\Downloads\\\\app')"
   ]
  },
  {
   "cell_type": "code",
   "execution_count": 2,
   "metadata": {},
   "outputs": [],
   "source": [
    "mock_data = {\n",
    "    \"title\": \"This product is part of a huge conspiracy\",\n",
    "    \"positives\": [\"Very large screen\", \"Long-lasting battery\"],\n",
    "    \"negatives\": [\"Works on its own when you're not looking\", \"Spies on you\"],\n",
    "    \"content\": \"As great as this product is, this is a part of a conspiracy to overthrow the government & replace us all with lizard-people\" \n",
    "}\n",
    "\n",
    "overall_mock_data = {\n",
    "    \"title\": \"Great User Experience!\",\n",
    "    \"plus_list\": [\"intuitive design\", \"fast performance\", \"responsive support\"],\n",
    "    \"min_list\": [\"limited customization\", \"high price\"],\n",
    "    \"plus\": \"intuitive design, fast performance\",\n",
    "    \"min\": \"limited customization\",\n",
    "    \"content\": \"The app is very user-friendly and performs well. However, I wish there were more customization options for advanced users.\",\n",
    "    \"analysis_emotion\": \"positive\",\n",
    "    \"analysis_score\": 0.85\n",
    "}"
   ]
  },
  {
   "cell_type": "code",
   "execution_count": 3,
   "metadata": {},
   "outputs": [
    {
     "data": {
      "text/plain": [
       "Output(emotion='resentment', score=3)"
      ]
     },
     "execution_count": 3,
     "metadata": {},
     "output_type": "execute_result"
    }
   ],
   "source": [
    "# Import the relevant chains\n",
    "# from src.app.analyseChain_GPT import chain\n",
    "from src.app.analyseChain_claude import chain\n",
    "from src.app.analyseChain_overall_claude import chain1\n",
    "\n",
    "chain.invoke(mock_data)\n"
   ]
  },
  {
   "cell_type": "code",
   "execution_count": 4,
   "metadata": {},
   "outputs": [
    {
     "data": {
      "text/plain": [
       "Output(positives=['intuitive design', 'fast performance', 'responsive support'], negatives=['limited customization', 'high price', 'no other major negatives identified'], negative_solution=['Introduce tiered product versions', 'Add plugin support for advanced customization', 'Provide customization templates'], negative_reasoning=['Offering different versions allows basic users to keep the simple interface while giving advanced users more control', 'Plugin architecture enables third-party customizations without compromising core functionality', 'Templates provide quick customization options while maintaining product stability'], score=85, score_reasoning=['High emotion analysis score of 0.85 indicates strong user satisfaction', 'Positive aspects outweigh negative feedback', 'Core functionality meets user expectations', 'Negative aspects are feature-related rather than fundamental issues'], Market_solution=['product_continuation_recommendation: Continue Selling with Enhanced Features', 'stock_level: Maintain Moderate to High Inventory', 'pricing_strategy: Premium Positioning with Tiered Options', 'target_segment: Both Basic and Power Users'], Market_reasoning=['85% satisfaction rate indicates strong market viability', 'High customer satisfaction suggests reliable sales potential', 'Positive user experience supports premium pricing strategy', 'Demand likely to remain stable due to core functionality strength'])"
      ]
     },
     "execution_count": 4,
     "metadata": {},
     "output_type": "execute_result"
    }
   ],
   "source": [
    "chain1.invoke(overall_mock_data)\n"
   ]
  },
  {
   "cell_type": "code",
   "execution_count": 5,
   "metadata": {},
   "outputs": [],
   "source": [
    "from src.app.analyseChain_LLaMA import chain\n",
    "from src.app.analyseChain_overall_LLaMA import chain1"
   ]
  },
  {
   "cell_type": "code",
   "execution_count": 6,
   "metadata": {},
   "outputs": [
    {
     "data": {
      "text/plain": [
       "Output(emotion='resentment', score=2)"
      ]
     },
     "execution_count": 6,
     "metadata": {},
     "output_type": "execute_result"
    }
   ],
   "source": [
    "chain.invoke(mock_data)"
   ]
  },
  {
   "cell_type": "code",
   "execution_count": 7,
   "metadata": {},
   "outputs": [
    {
     "data": {
      "text/plain": [
       "Output(positives=['intuitive design', 'fast performance', 'responsive support'], negatives=['limited customization', 'high price'], negative_solution=['Offer more customization options for advanced users', 'Possibly through a premium service or a modular design'], negative_reasoning=[\"Addresses the user's desire for more control over their app experience\", 'Potentially increasing user satisfaction and loyalty'], score=85, score_reasoning=['Reflects the positive sentiment expressed in the review', \"Highlights the app's user-friendly nature and good performance\"], Market_solution=[\"Enhance the product's appeal by highlighting its intuitive design and fast performance\", 'Offer premium services or bundles that include customization options'], Market_reasoning=[\"Focuses on the product's strengths while addressing the main negative aspect\", 'Attract a broader range of customers, including those seeking more personalized experiences'])"
      ]
     },
     "execution_count": 7,
     "metadata": {},
     "output_type": "execute_result"
    }
   ],
   "source": [
    "chain1.invoke(overall_mock_data)"
   ]
  }
 ],
 "metadata": {
  "kernelspec": {
   "display_name": ".venv",
   "language": "python",
   "name": "python3"
  },
  "language_info": {
   "codemirror_mode": {
    "name": "ipython",
    "version": 3
   },
   "file_extension": ".py",
   "mimetype": "text/x-python",
   "name": "python",
   "nbconvert_exporter": "python",
   "pygments_lexer": "ipython3",
   "version": "3.12.7"
  }
 },
 "nbformat": 4,
 "nbformat_minor": 2
}
